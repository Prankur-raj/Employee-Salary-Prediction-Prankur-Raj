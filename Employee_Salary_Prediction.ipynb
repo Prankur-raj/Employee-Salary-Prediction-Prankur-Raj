{
 "cells": [
  {
   "cell_type": "code",
   "execution_count": 1,
   "metadata": {
    "id": "aX9j5XTXBa-5"
   },
   "outputs": [],
   "source": [
    "import numpy as np\n",
    "import pandas as pd"
   ]
  },
  {
   "cell_type": "markdown",
   "metadata": {
    "id": "BUfURxAoCE46"
   },
   "source": [
    "# **Read Dataset**\n"
   ]
  },
  {
   "cell_type": "code",
   "execution_count": 2,
   "metadata": {
    "colab": {
     "base_uri": "https://localhost:8080/"
    },
    "id": "iHjbDlzVCOjE",
    "outputId": "50f85780-188b-4d3b-a1db-3243c66a4a46"
   },
   "outputs": [
    {
     "name": "stdout",
     "output_type": "stream",
     "text": [
      "    age         workclass  fnlwgt     education  educational-num  \\\n",
      "0    25           Private  226802          11th                7   \n",
      "1    38           Private   89814       HS-grad                9   \n",
      "2    28         Local-gov  336951    Assoc-acdm               12   \n",
      "3    44           Private  160323  Some-college               10   \n",
      "4    18                 ?  103497  Some-college               10   \n",
      "5    34           Private  198693          10th                6   \n",
      "6    29                 ?  227026       HS-grad                9   \n",
      "7    63  Self-emp-not-inc  104626   Prof-school               15   \n",
      "8    24           Private  369667  Some-college               10   \n",
      "9    55           Private  104996       7th-8th                4   \n",
      "10   65           Private  184454       HS-grad                9   \n",
      "11   36       Federal-gov  212465     Bachelors               13   \n",
      "12   26           Private   82091       HS-grad                9   \n",
      "13   58                 ?  299831       HS-grad                9   \n",
      "14   48           Private  279724       HS-grad                9   \n",
      "\n",
      "        marital-status         occupation   relationship   race  gender  \\\n",
      "0        Never-married  Machine-op-inspct      Own-child  Black    Male   \n",
      "1   Married-civ-spouse    Farming-fishing        Husband  White    Male   \n",
      "2   Married-civ-spouse    Protective-serv        Husband  White    Male   \n",
      "3   Married-civ-spouse  Machine-op-inspct        Husband  Black    Male   \n",
      "4        Never-married                  ?      Own-child  White  Female   \n",
      "5        Never-married      Other-service  Not-in-family  White    Male   \n",
      "6        Never-married                  ?      Unmarried  Black    Male   \n",
      "7   Married-civ-spouse     Prof-specialty        Husband  White    Male   \n",
      "8        Never-married      Other-service      Unmarried  White  Female   \n",
      "9   Married-civ-spouse       Craft-repair        Husband  White    Male   \n",
      "10  Married-civ-spouse  Machine-op-inspct        Husband  White    Male   \n",
      "11  Married-civ-spouse       Adm-clerical        Husband  White    Male   \n",
      "12       Never-married       Adm-clerical  Not-in-family  White  Female   \n",
      "13  Married-civ-spouse                  ?        Husband  White    Male   \n",
      "14  Married-civ-spouse  Machine-op-inspct        Husband  White    Male   \n",
      "\n",
      "    capital-gain  capital-loss  hours-per-week native-country income  \n",
      "0              0             0              40  United-States  <=50K  \n",
      "1              0             0              50  United-States  <=50K  \n",
      "2              0             0              40  United-States   >50K  \n",
      "3           7688             0              40  United-States   >50K  \n",
      "4              0             0              30  United-States  <=50K  \n",
      "5              0             0              30  United-States  <=50K  \n",
      "6              0             0              40  United-States  <=50K  \n",
      "7           3103             0              32  United-States   >50K  \n",
      "8              0             0              40  United-States  <=50K  \n",
      "9              0             0              10  United-States  <=50K  \n",
      "10          6418             0              40  United-States   >50K  \n",
      "11             0             0              40  United-States  <=50K  \n",
      "12             0             0              39  United-States  <=50K  \n",
      "13             0             0              35  United-States  <=50K  \n",
      "14          3103             0              48  United-States   >50K  \n"
     ]
    }
   ],
   "source": [
    "dataset =pd.read_csv(\"/storage/emulated/0/Android/data/ru.iiec.pydroid3/files/file.csv\")\n",
    "print(dataset.head(15))"
   ]
  },
  {
   "cell_type": "code",
   "execution_count": 3,
   "metadata": {},
   "outputs": [
    {
     "data": {
      "text/plain": [
       "(48842, 15)"
      ]
     },
     "execution_count": 3,
     "metadata": {},
     "output_type": "execute_result"
    }
   ],
   "source": [
    "dataset.shape"
   ]
  },
  {
   "cell_type": "code",
   "execution_count": 4,
   "metadata": {},
   "outputs": [
    {
     "data": {
      "text/plain": [
       "age                0\n",
       "workclass          0\n",
       "fnlwgt             0\n",
       "education          0\n",
       "educational-num    0\n",
       "marital-status     0\n",
       "occupation         0\n",
       "relationship       0\n",
       "race               0\n",
       "gender             0\n",
       "capital-gain       0\n",
       "capital-loss       0\n",
       "hours-per-week     0\n",
       "native-country     0\n",
       "income             0\n",
       "dtype: int64"
      ]
     },
     "execution_count": 4,
     "metadata": {},
     "output_type": "execute_result"
    }
   ],
   "source": [
    "#null values \n",
    "#Mean Median Mode Arbitrary \n",
    "dataset.isna().sum()"
   ]
  },
  {
   "cell_type": "code",
   "execution_count": 5,
   "metadata": {},
   "outputs": [
    {
     "name": "stdout",
     "output_type": "stream",
     "text": [
      "workclass\n",
      "Private             33906\n",
      "Self-emp-not-inc     3862\n",
      "Local-gov            3136\n",
      "?                    2799\n",
      "State-gov            1981\n",
      "Self-emp-inc         1695\n",
      "Federal-gov          1432\n",
      "Name: count, dtype: int64\n"
     ]
    }
   ],
   "source": [
    "dataset=dataset[dataset['workclass']!='Without-pay']\n",
    "dataset=dataset[dataset['workclass']!='Never-worked']\n",
    "print(dataset['workclass'].value_counts())"
   ]
  },
  {
   "cell_type": "markdown",
   "metadata": {
    "id": "s4XcF2520jTq"
   },
   "source": [
    "# **Visualizing Age Trends**"
   ]
  },
  {
   "cell_type": "code",
   "execution_count": null,
   "metadata": {},
   "outputs": [],
   "source": [
    "import matplotlib.pyplot as plt\n",
    "import seaborn as sns\n",
    "from sklearn.preprocessing import MinMaxScaler, OneHotEncoder, OrdinalEncoder\n",
    "from sklearn.linear_model import LinearRegression\n",
    "from sklearn.model_selection import train_test_split\n",
    "from sklearn.ensemble import RandomForestRegressor\n",
    "from sklearn.tree import DecisionTreeRegressor\n",
    "from sklearn.preprocessing import LabelEncoder"
   ]
  },
  {
   "cell_type": "code",
   "execution_count": 10,
   "metadata": {
    "colab": {
     "base_uri": "https://localhost:8080/",
     "height": 417
    },
    "id": "ZinVzgbP0seK",
    "outputId": "a618732d-3f3a-4018-db7f-76ff42811b00"
   },
   "outputs": [],
   "source": [
    "# Histogram to visualize the distribution of the 'Age' column\n",
    "plt.figure(figsize=(10, 4))\n",
    "plt.hist(dataset['age'], bins=20, color='#66C2A5', edgecolor='black')\n",
    "plt.title(\"Age Distribution\", fontsize=16)\n",
    "plt.xlabel(\"age\", fontsize=14)\n",
    "plt.ylabel(\"Frequency\", fontsize=14)\n",
    "plt.grid(axis='y', linestyle='--', alpha=0.7)\n",
    "plt.show()"
   ]
  },
  {
   "cell_type": "code",
   "execution_count": 12,
   "metadata": {
    "colab": {
     "base_uri": "https://localhost:8080/",
     "height": 417
    },
    "id": "8XUiTp090x1u",
    "outputId": "fe98c81f-c013-472f-a49d-a6b9dbb46edc"
   },
   "outputs": [],
   "source": [
    "#Age Density Visualization\n",
    "plt.figure(figsize=(10, 4))\n",
    "sns.kdeplot(dataset['age'], fill=True, color='#FC8D62')\n",
    "plt.title(\"Age Density Plot\", fontsize=16)\n",
    "plt.xlabel(\"Age\", fontsize=14)\n",
    "plt.ylabel(\"Density\", fontsize=14)\n",
    "plt.show()"
   ]
  },
  {
   "cell_type": "markdown",
   "metadata": {
    "id": "S-kQFVCVGZmT"
   },
   "source": [
    "# **Visualizing Salary Trends**"
   ]
  },
  {
   "cell_type": "code",
   "execution_count": 16,
   "metadata": {
    "colab": {
     "base_uri": "https://localhost:8080/",
     "height": 417
    },
    "id": "dP2zYP6ZGwz7",
    "outputId": "4ff69aac-22f0-4d93-ef88-9d4a01b80226"
   },
   "outputs": [],
   "source": [
    "# Histogram to visualize the distribution of the 'Salary' column\n",
    "plt.figure(figsize=(10, 4))\n",
    "plt.hist(dataset['income'], bins=20, color='#66C2A5', edgecolor='black')\n",
    "plt.title(\"Salary Distribution\", fontsize=16)\n",
    "plt.xlabel(\"Salary\", fontsize=14)\n",
    "plt.ylabel(\"Frequency\", fontsize=14)\n",
    "plt.grid(axis='y', linestyle='--', alpha=0.7)\n",
    "plt.show()"
   ]
  },
  {
   "cell_type": "code",
   "execution_count": 18,
   "metadata": {
    "colab": {
     "base_uri": "https://localhost:8080/",
     "height": 417
    },
    "id": "3qDr1uJiHHkG",
    "outputId": "4d1f0a2c-efad-436c-b193-30ccee398919"
   },
   "outputs": [],
   "source": [
    "# Salary Boxplot Overview\n",
    "plt.figure(figsize=(10, 4))\n",
    "sns.boxplot(x=dataset['income'], color='#66C2A5')\n",
    "plt.title(\"Salary Distribution Boxplot\", fontsize=16)\n",
    "plt.xlabel(\"Salary\", fontsize=14)\n",
    "plt.show()"
   ]
  },
  {
   "cell_type": "markdown",
   "metadata": {
    "id": "Cv_67biEHTmY"
   },
   "source": [
    "# **Visualizing Years Of Experience Trends**"
   ]
  },
  {
   "cell_type": "markdown",
   "metadata": {
    "id": "NeVY2xRPIh3J"
   },
   "source": [
    "# **Exploring Gender Representation**"
   ]
  },
  {
   "cell_type": "code",
   "execution_count": 25,
   "metadata": {
    "colab": {
     "base_uri": "https://localhost:8080/",
     "height": 371
    },
    "id": "UFKtUBaxIkhU",
    "outputId": "eeddf1d1-4eae-429a-e216-b7bcd346a2f5"
   },
   "outputs": [],
   "source": [
    "# Gender Distribution Visualization (Pie Chart)\n",
    "plt.figure(figsize=(4, 8))\n",
    "gender_counts = dataset['gender'].value_counts()\n",
    "plt.pie(gender_counts, labels=gender_counts.index, autopct='%1.1f%%', colors=['#66C2A5', '#FC8D62'])\n",
    "plt.title(\"Gender Distribution\", fontsize=16)\n",
    "plt.show()"
   ]
  },
  {
   "cell_type": "markdown",
   "metadata": {
    "id": "P0rWM3aXK_bd"
   },
   "source": [
    "# **Exploring Education Level Representation**"
   ]
  },
  {
   "cell_type": "code",
   "execution_count": 28,
   "metadata": {
    "colab": {
     "base_uri": "https://localhost:8080/",
     "height": 503
    },
    "id": "1RhP71fQLG0V",
    "outputId": "f9c0a95a-74b5-46fb-a607-f60ec55ca328"
   },
   "outputs": [],
   "source": [
    "# Education Level Distribution (Bar Plot)\n",
    "plt.figure(figsize=(10, 4))\n",
    "sns.countplot(x='education', data=dataset, color='#66C2A5')\n",
    "plt.title(\"Education Level Distribution\", fontsize=16)\n",
    "plt.xlabel(\"Education Level\", fontsize=14)\n",
    "plt.ylabel(\"Count\", fontsize=14)\n",
    "plt.xticks(rotation=45)\n",
    "plt.show()"
   ]
  },
  {
   "cell_type": "markdown",
   "metadata": {
    "id": "jd_vxaqtMkow"
   },
   "source": [
    "# **Data Quality Overview**"
   ]
  },
  {
   "cell_type": "code",
   "execution_count": 29,
   "metadata": {
    "colab": {
     "base_uri": "https://localhost:8080/"
    },
    "id": "mZFWSiwUNJ5d",
    "outputId": "d99ddb64-f63a-49c3-e839-ee543921b055"
   },
   "outputs": [
    {
     "name": "stdout",
     "output_type": "stream",
     "text": [
      "----- Missing Values -----\n",
      "Series([], dtype: int64)\n",
      "--------------------------\n",
      "----- Duplicate Values -----\n",
      "Number of duplicate rows: 52\n",
      "---------------------------\n",
      "----- Data Types -----\n",
      "age                 int64\n",
      "workclass          object\n",
      "fnlwgt              int64\n",
      "education          object\n",
      "educational-num     int64\n",
      "marital-status     object\n",
      "occupation         object\n",
      "relationship       object\n",
      "race               object\n",
      "gender             object\n",
      "capital-gain        int64\n",
      "capital-loss        int64\n",
      "hours-per-week      int64\n",
      "native-country     object\n",
      "income             object\n",
      "dtype: object\n",
      "----------------------\n",
      "<bound method DataFrame.info of        age     workclass  fnlwgt     education  educational-num  \\\n",
      "0       25       Private  226802          11th                7   \n",
      "1       38       Private   89814       HS-grad                9   \n",
      "2       28     Local-gov  336951    Assoc-acdm               12   \n",
      "3       44       Private  160323  Some-college               10   \n",
      "4       18             ?  103497  Some-college               10   \n",
      "...    ...           ...     ...           ...              ...   \n",
      "48837   27       Private  257302    Assoc-acdm               12   \n",
      "48838   40       Private  154374       HS-grad                9   \n",
      "48839   58       Private  151910       HS-grad                9   \n",
      "48840   22       Private  201490       HS-grad                9   \n",
      "48841   52  Self-emp-inc  287927       HS-grad                9   \n",
      "\n",
      "           marital-status         occupation relationship   race  gender  \\\n",
      "0           Never-married  Machine-op-inspct    Own-child  Black    Male   \n",
      "1      Married-civ-spouse    Farming-fishing      Husband  White    Male   \n",
      "2      Married-civ-spouse    Protective-serv      Husband  White    Male   \n",
      "3      Married-civ-spouse  Machine-op-inspct      Husband  Black    Male   \n",
      "4           Never-married                  ?    Own-child  White  Female   \n",
      "...                   ...                ...          ...    ...     ...   \n",
      "48837  Married-civ-spouse       Tech-support         Wife  White  Female   \n",
      "48838  Married-civ-spouse  Machine-op-inspct      Husband  White    Male   \n",
      "48839             Widowed       Adm-clerical    Unmarried  White  Female   \n",
      "48840       Never-married       Adm-clerical    Own-child  White    Male   \n",
      "48841  Married-civ-spouse    Exec-managerial         Wife  White  Female   \n",
      "\n",
      "       capital-gain  capital-loss  hours-per-week native-country income  \n",
      "0                 0             0              40  United-States  <=50K  \n",
      "1                 0             0              50  United-States  <=50K  \n",
      "2                 0             0              40  United-States   >50K  \n",
      "3              7688             0              40  United-States   >50K  \n",
      "4                 0             0              30  United-States  <=50K  \n",
      "...             ...           ...             ...            ...    ...  \n",
      "48837             0             0              38  United-States  <=50K  \n",
      "48838             0             0              40  United-States   >50K  \n",
      "48839             0             0              40  United-States  <=50K  \n",
      "48840             0             0              20  United-States  <=50K  \n",
      "48841         15024             0              40  United-States   >50K  \n",
      "\n",
      "[48811 rows x 15 columns]>\n"
     ]
    }
   ],
   "source": [
    "#  missing values\n",
    "print(\"----- Missing Values -----\")\n",
    "missing_values = dataset.isnull().sum()\n",
    "print(missing_values[missing_values > 0])\n",
    "print(\"--------------------------\")\n",
    "\n",
    "#  duplicate values\n",
    "print(\"----- Duplicate Values -----\")\n",
    "duplicate_count = dataset.duplicated().sum()\n",
    "print(f\"Number of duplicate rows: {duplicate_count}\")\n",
    "print(\"---------------------------\")\n",
    "\n",
    "#  dataset data types\n",
    "print(\"----- Data Types -----\")\n",
    "print(dataset.dtypes)\n",
    "print(\"----------------------\")\n",
    "\n",
    "print(dataset.info)"
   ]
  },
  {
   "cell_type": "markdown",
   "metadata": {
    "id": "qLsag4ngNhu9"
   },
   "source": [
    "# **Standardizing Job Titles & Education**"
   ]
  },
  {
   "cell_type": "markdown",
   "metadata": {
    "id": "a9jg7yNOOtR0"
   },
   "source": [
    "# **Replace Other By The Mode Of Gender**"
   ]
  },
  {
   "cell_type": "code",
   "execution_count": 36,
   "metadata": {
    "colab": {
     "base_uri": "https://localhost:8080/"
    },
    "id": "qBTjfnfyO-Hk",
    "outputId": "b03995ed-f6a8-4b32-c16b-00872f0e3886"
   },
   "outputs": [
    {
     "name": "stdout",
     "output_type": "stream",
     "text": [
      "gender\n",
      "Male      32629\n",
      "Female    16182\n",
      "Name: count, dtype: int64\n"
     ]
    }
   ],
   "source": [
    "# replace other by the mode of Gender\n",
    "dataset['gender'] = dataset['gender'].replace('Other', dataset['gender'].mode()[0]  )\n",
    "print(dataset['gender'].value_counts())"
   ]
  },
  {
   "cell_type": "markdown",
   "metadata": {
    "id": "7JzxN6jwQ3p3"
   },
   "source": [
    "# **Data Preparation: Handling Inconsistencies and Duplicates**"
   ]
  },
  {
   "cell_type": "markdown",
   "metadata": {
    "id": "w2bCeWy8W8BE"
   },
   "source": [
    "# **Interactive Data Views**"
   ]
  },
  {
   "cell_type": "markdown",
   "metadata": {
    "id": "EW-z1m6AVGu6"
   },
   "source": [
    "# **Feature Encoding**"
   ]
  },
  {
   "cell_type": "code",
   "execution_count": 20,
   "metadata": {
    "colab": {
     "base_uri": "https://localhost:8080/",
     "height": 307
    },
    "id": "3CIoD0ObVigH",
    "outputId": "8a394609-b5af-4a5f-d99b-a1ecd112fba4"
   },
   "outputs": [
    {
     "data": {
      "application/vnd.google.colaboratory.intrinsic+json": {
       "type": "dataframe",
       "variable_name": "dataset_encoded"
      },
      "text/html": [
       "\n",
       "  <div id=\"df-a9764646-5140-41b1-a80a-4af52585acc1\" class=\"colab-df-container\">\n",
       "    <div>\n",
       "<style scoped>\n",
       "    .dataframe tbody tr th:only-of-type {\n",
       "        vertical-align: middle;\n",
       "    }\n",
       "\n",
       "    .dataframe tbody tr th {\n",
       "        vertical-align: top;\n",
       "    }\n",
       "\n",
       "    .dataframe thead th {\n",
       "        text-align: right;\n",
       "    }\n",
       "</style>\n",
       "<table border=\"1\" class=\"dataframe\">\n",
       "  <thead>\n",
       "    <tr style=\"text-align: right;\">\n",
       "      <th></th>\n",
       "      <th>Age</th>\n",
       "      <th>Gender</th>\n",
       "      <th>Education Level</th>\n",
       "      <th>Years of Experience</th>\n",
       "      <th>Job_Title_Back end Developer</th>\n",
       "      <th>Job_Title_Content Marketing Manager</th>\n",
       "      <th>Job_Title_Data Analyst</th>\n",
       "      <th>Job_Title_Data Scientist</th>\n",
       "      <th>Job_Title_Digital Marketing Manager</th>\n",
       "      <th>Job_Title_Director of HR</th>\n",
       "      <th>...</th>\n",
       "      <th>Job_Title_Senior HR Generalist</th>\n",
       "      <th>Job_Title_Senior Human Resources Manager</th>\n",
       "      <th>Job_Title_Senior Product Marketing Manager</th>\n",
       "      <th>Job_Title_Senior Project Engineer</th>\n",
       "      <th>Job_Title_Senior Software Engineer</th>\n",
       "      <th>Job_Title_Software Developer</th>\n",
       "      <th>Job_Title_Software Engineer</th>\n",
       "      <th>Job_Title_Software Engineer Manager</th>\n",
       "      <th>Job_Title_Web Developer</th>\n",
       "      <th>Salary</th>\n",
       "    </tr>\n",
       "  </thead>\n",
       "  <tbody>\n",
       "    <tr>\n",
       "      <th>0</th>\n",
       "      <td>32.0</td>\n",
       "      <td>1</td>\n",
       "      <td>0</td>\n",
       "      <td>5.0</td>\n",
       "      <td>False</td>\n",
       "      <td>False</td>\n",
       "      <td>False</td>\n",
       "      <td>False</td>\n",
       "      <td>False</td>\n",
       "      <td>False</td>\n",
       "      <td>...</td>\n",
       "      <td>False</td>\n",
       "      <td>False</td>\n",
       "      <td>False</td>\n",
       "      <td>False</td>\n",
       "      <td>False</td>\n",
       "      <td>False</td>\n",
       "      <td>True</td>\n",
       "      <td>False</td>\n",
       "      <td>False</td>\n",
       "      <td>90000.0</td>\n",
       "    </tr>\n",
       "    <tr>\n",
       "      <th>1</th>\n",
       "      <td>28.0</td>\n",
       "      <td>0</td>\n",
       "      <td>2</td>\n",
       "      <td>3.0</td>\n",
       "      <td>False</td>\n",
       "      <td>False</td>\n",
       "      <td>True</td>\n",
       "      <td>False</td>\n",
       "      <td>False</td>\n",
       "      <td>False</td>\n",
       "      <td>...</td>\n",
       "      <td>False</td>\n",
       "      <td>False</td>\n",
       "      <td>False</td>\n",
       "      <td>False</td>\n",
       "      <td>False</td>\n",
       "      <td>False</td>\n",
       "      <td>False</td>\n",
       "      <td>False</td>\n",
       "      <td>False</td>\n",
       "      <td>65000.0</td>\n",
       "    </tr>\n",
       "    <tr>\n",
       "      <th>2</th>\n",
       "      <td>45.0</td>\n",
       "      <td>1</td>\n",
       "      <td>3</td>\n",
       "      <td>15.0</td>\n",
       "      <td>False</td>\n",
       "      <td>False</td>\n",
       "      <td>False</td>\n",
       "      <td>False</td>\n",
       "      <td>False</td>\n",
       "      <td>False</td>\n",
       "      <td>...</td>\n",
       "      <td>False</td>\n",
       "      <td>False</td>\n",
       "      <td>False</td>\n",
       "      <td>False</td>\n",
       "      <td>False</td>\n",
       "      <td>False</td>\n",
       "      <td>False</td>\n",
       "      <td>False</td>\n",
       "      <td>False</td>\n",
       "      <td>150000.0</td>\n",
       "    </tr>\n",
       "    <tr>\n",
       "      <th>3</th>\n",
       "      <td>36.0</td>\n",
       "      <td>0</td>\n",
       "      <td>0</td>\n",
       "      <td>7.0</td>\n",
       "      <td>False</td>\n",
       "      <td>False</td>\n",
       "      <td>False</td>\n",
       "      <td>False</td>\n",
       "      <td>False</td>\n",
       "      <td>False</td>\n",
       "      <td>...</td>\n",
       "      <td>False</td>\n",
       "      <td>False</td>\n",
       "      <td>False</td>\n",
       "      <td>False</td>\n",
       "      <td>False</td>\n",
       "      <td>False</td>\n",
       "      <td>False</td>\n",
       "      <td>False</td>\n",
       "      <td>False</td>\n",
       "      <td>60000.0</td>\n",
       "    </tr>\n",
       "    <tr>\n",
       "      <th>4</th>\n",
       "      <td>52.0</td>\n",
       "      <td>1</td>\n",
       "      <td>2</td>\n",
       "      <td>20.0</td>\n",
       "      <td>False</td>\n",
       "      <td>False</td>\n",
       "      <td>False</td>\n",
       "      <td>False</td>\n",
       "      <td>False</td>\n",
       "      <td>False</td>\n",
       "      <td>...</td>\n",
       "      <td>False</td>\n",
       "      <td>False</td>\n",
       "      <td>False</td>\n",
       "      <td>False</td>\n",
       "      <td>False</td>\n",
       "      <td>False</td>\n",
       "      <td>False</td>\n",
       "      <td>False</td>\n",
       "      <td>False</td>\n",
       "      <td>200000.0</td>\n",
       "    </tr>\n",
       "  </tbody>\n",
       "</table>\n",
       "<p>5 rows × 45 columns</p>\n",
       "</div>\n",
       "    <div class=\"colab-df-buttons\">\n",
       "\n",
       "  <div class=\"colab-df-container\">\n",
       "    <button class=\"colab-df-convert\" onclick=\"convertToInteractive('df-a9764646-5140-41b1-a80a-4af52585acc1')\"\n",
       "            title=\"Convert this dataframe to an interactive table.\"\n",
       "            style=\"display:none;\">\n",
       "\n",
       "  <svg xmlns=\"http://www.w3.org/2000/svg\" height=\"24px\" viewBox=\"0 -960 960 960\">\n",
       "    <path d=\"M120-120v-720h720v720H120Zm60-500h600v-160H180v160Zm220 220h160v-160H400v160Zm0 220h160v-160H400v160ZM180-400h160v-160H180v160Zm440 0h160v-160H620v160ZM180-180h160v-160H180v160Zm440 0h160v-160H620v160Z\"/>\n",
       "  </svg>\n",
       "    </button>\n",
       "\n",
       "  <style>\n",
       "    .colab-df-container {\n",
       "      display:flex;\n",
       "      gap: 12px;\n",
       "    }\n",
       "\n",
       "    .colab-df-convert {\n",
       "      background-color: #E8F0FE;\n",
       "      border: none;\n",
       "      border-radius: 50%;\n",
       "      cursor: pointer;\n",
       "      display: none;\n",
       "      fill: #1967D2;\n",
       "      height: 32px;\n",
       "      padding: 0 0 0 0;\n",
       "      width: 32px;\n",
       "    }\n",
       "\n",
       "    .colab-df-convert:hover {\n",
       "      background-color: #E2EBFA;\n",
       "      box-shadow: 0px 1px 2px rgba(60, 64, 67, 0.3), 0px 1px 3px 1px rgba(60, 64, 67, 0.15);\n",
       "      fill: #174EA6;\n",
       "    }\n",
       "\n",
       "    .colab-df-buttons div {\n",
       "      margin-bottom: 4px;\n",
       "    }\n",
       "\n",
       "    [theme=dark] .colab-df-convert {\n",
       "      background-color: #3B4455;\n",
       "      fill: #D2E3FC;\n",
       "    }\n",
       "\n",
       "    [theme=dark] .colab-df-convert:hover {\n",
       "      background-color: #434B5C;\n",
       "      box-shadow: 0px 1px 3px 1px rgba(0, 0, 0, 0.15);\n",
       "      filter: drop-shadow(0px 1px 2px rgba(0, 0, 0, 0.3));\n",
       "      fill: #FFFFFF;\n",
       "    }\n",
       "  </style>\n",
       "\n",
       "    <script>\n",
       "      const buttonEl =\n",
       "        document.querySelector('#df-a9764646-5140-41b1-a80a-4af52585acc1 button.colab-df-convert');\n",
       "      buttonEl.style.display =\n",
       "        google.colab.kernel.accessAllowed ? 'block' : 'none';\n",
       "\n",
       "      async function convertToInteractive(key) {\n",
       "        const element = document.querySelector('#df-a9764646-5140-41b1-a80a-4af52585acc1');\n",
       "        const dataTable =\n",
       "          await google.colab.kernel.invokeFunction('convertToInteractive',\n",
       "                                                    [key], {});\n",
       "        if (!dataTable) return;\n",
       "\n",
       "        const docLinkHtml = 'Like what you see? Visit the ' +\n",
       "          '<a target=\"_blank\" href=https://colab.research.google.com/notebooks/data_table.ipynb>data table notebook</a>'\n",
       "          + ' to learn more about interactive tables.';\n",
       "        element.innerHTML = '';\n",
       "        dataTable['output_type'] = 'display_data';\n",
       "        await google.colab.output.renderOutput(dataTable, element);\n",
       "        const docLink = document.createElement('div');\n",
       "        docLink.innerHTML = docLinkHtml;\n",
       "        element.appendChild(docLink);\n",
       "      }\n",
       "    </script>\n",
       "  </div>\n",
       "\n",
       "\n",
       "<div id=\"df-91759b81-0f08-417a-a9a5-d5e864ae4b04\">\n",
       "  <button class=\"colab-df-quickchart\" onclick=\"quickchart('df-91759b81-0f08-417a-a9a5-d5e864ae4b04')\"\n",
       "            title=\"Suggest charts\"\n",
       "            style=\"display:none;\">\n",
       "\n",
       "<svg xmlns=\"http://www.w3.org/2000/svg\" height=\"24px\"viewBox=\"0 0 24 24\"\n",
       "     width=\"24px\">\n",
       "    <g>\n",
       "        <path d=\"M19 3H5c-1.1 0-2 .9-2 2v14c0 1.1.9 2 2 2h14c1.1 0 2-.9 2-2V5c0-1.1-.9-2-2-2zM9 17H7v-7h2v7zm4 0h-2V7h2v10zm4 0h-2v-4h2v4z\"/>\n",
       "    </g>\n",
       "</svg>\n",
       "  </button>\n",
       "\n",
       "<style>\n",
       "  .colab-df-quickchart {\n",
       "      --bg-color: #E8F0FE;\n",
       "      --fill-color: #1967D2;\n",
       "      --hover-bg-color: #E2EBFA;\n",
       "      --hover-fill-color: #174EA6;\n",
       "      --disabled-fill-color: #AAA;\n",
       "      --disabled-bg-color: #DDD;\n",
       "  }\n",
       "\n",
       "  [theme=dark] .colab-df-quickchart {\n",
       "      --bg-color: #3B4455;\n",
       "      --fill-color: #D2E3FC;\n",
       "      --hover-bg-color: #434B5C;\n",
       "      --hover-fill-color: #FFFFFF;\n",
       "      --disabled-bg-color: #3B4455;\n",
       "      --disabled-fill-color: #666;\n",
       "  }\n",
       "\n",
       "  .colab-df-quickchart {\n",
       "    background-color: var(--bg-color);\n",
       "    border: none;\n",
       "    border-radius: 50%;\n",
       "    cursor: pointer;\n",
       "    display: none;\n",
       "    fill: var(--fill-color);\n",
       "    height: 32px;\n",
       "    padding: 0;\n",
       "    width: 32px;\n",
       "  }\n",
       "\n",
       "  .colab-df-quickchart:hover {\n",
       "    background-color: var(--hover-bg-color);\n",
       "    box-shadow: 0 1px 2px rgba(60, 64, 67, 0.3), 0 1px 3px 1px rgba(60, 64, 67, 0.15);\n",
       "    fill: var(--button-hover-fill-color);\n",
       "  }\n",
       "\n",
       "  .colab-df-quickchart-complete:disabled,\n",
       "  .colab-df-quickchart-complete:disabled:hover {\n",
       "    background-color: var(--disabled-bg-color);\n",
       "    fill: var(--disabled-fill-color);\n",
       "    box-shadow: none;\n",
       "  }\n",
       "\n",
       "  .colab-df-spinner {\n",
       "    border: 2px solid var(--fill-color);\n",
       "    border-color: transparent;\n",
       "    border-bottom-color: var(--fill-color);\n",
       "    animation:\n",
       "      spin 1s steps(1) infinite;\n",
       "  }\n",
       "\n",
       "  @keyframes spin {\n",
       "    0% {\n",
       "      border-color: transparent;\n",
       "      border-bottom-color: var(--fill-color);\n",
       "      border-left-color: var(--fill-color);\n",
       "    }\n",
       "    20% {\n",
       "      border-color: transparent;\n",
       "      border-left-color: var(--fill-color);\n",
       "      border-top-color: var(--fill-color);\n",
       "    }\n",
       "    30% {\n",
       "      border-color: transparent;\n",
       "      border-left-color: var(--fill-color);\n",
       "      border-top-color: var(--fill-color);\n",
       "      border-right-color: var(--fill-color);\n",
       "    }\n",
       "    40% {\n",
       "      border-color: transparent;\n",
       "      border-right-color: var(--fill-color);\n",
       "      border-top-color: var(--fill-color);\n",
       "    }\n",
       "    60% {\n",
       "      border-color: transparent;\n",
       "      border-right-color: var(--fill-color);\n",
       "    }\n",
       "    80% {\n",
       "      border-color: transparent;\n",
       "      border-right-color: var(--fill-color);\n",
       "      border-bottom-color: var(--fill-color);\n",
       "    }\n",
       "    90% {\n",
       "      border-color: transparent;\n",
       "      border-bottom-color: var(--fill-color);\n",
       "    }\n",
       "  }\n",
       "</style>\n",
       "\n",
       "  <script>\n",
       "    async function quickchart(key) {\n",
       "      const quickchartButtonEl =\n",
       "        document.querySelector('#' + key + ' button');\n",
       "      quickchartButtonEl.disabled = true;  // To prevent multiple clicks.\n",
       "      quickchartButtonEl.classList.add('colab-df-spinner');\n",
       "      try {\n",
       "        const charts = await google.colab.kernel.invokeFunction(\n",
       "            'suggestCharts', [key], {});\n",
       "      } catch (error) {\n",
       "        console.error('Error during call to suggestCharts:', error);\n",
       "      }\n",
       "      quickchartButtonEl.classList.remove('colab-df-spinner');\n",
       "      quickchartButtonEl.classList.add('colab-df-quickchart-complete');\n",
       "    }\n",
       "    (() => {\n",
       "      let quickchartButtonEl =\n",
       "        document.querySelector('#df-91759b81-0f08-417a-a9a5-d5e864ae4b04 button');\n",
       "      quickchartButtonEl.style.display =\n",
       "        google.colab.kernel.accessAllowed ? 'block' : 'none';\n",
       "    })();\n",
       "  </script>\n",
       "</div>\n",
       "\n",
       "    </div>\n",
       "  </div>\n"
      ],
      "text/plain": [
       "    Age  Gender  Education Level  Years of Experience  \\\n",
       "0  32.0       1                0                  5.0   \n",
       "1  28.0       0                2                  3.0   \n",
       "2  45.0       1                3                 15.0   \n",
       "3  36.0       0                0                  7.0   \n",
       "4  52.0       1                2                 20.0   \n",
       "\n",
       "   Job_Title_Back end Developer  Job_Title_Content Marketing Manager  \\\n",
       "0                         False                                False   \n",
       "1                         False                                False   \n",
       "2                         False                                False   \n",
       "3                         False                                False   \n",
       "4                         False                                False   \n",
       "\n",
       "   Job_Title_Data Analyst  Job_Title_Data Scientist  \\\n",
       "0                   False                     False   \n",
       "1                    True                     False   \n",
       "2                   False                     False   \n",
       "3                   False                     False   \n",
       "4                   False                     False   \n",
       "\n",
       "   Job_Title_Digital Marketing Manager  Job_Title_Director of HR  ...  \\\n",
       "0                                False                     False  ...   \n",
       "1                                False                     False  ...   \n",
       "2                                False                     False  ...   \n",
       "3                                False                     False  ...   \n",
       "4                                False                     False  ...   \n",
       "\n",
       "   Job_Title_Senior HR Generalist  Job_Title_Senior Human Resources Manager  \\\n",
       "0                           False                                     False   \n",
       "1                           False                                     False   \n",
       "2                           False                                     False   \n",
       "3                           False                                     False   \n",
       "4                           False                                     False   \n",
       "\n",
       "   Job_Title_Senior Product Marketing Manager  \\\n",
       "0                                       False   \n",
       "1                                       False   \n",
       "2                                       False   \n",
       "3                                       False   \n",
       "4                                       False   \n",
       "\n",
       "   Job_Title_Senior Project Engineer  Job_Title_Senior Software Engineer  \\\n",
       "0                              False                               False   \n",
       "1                              False                               False   \n",
       "2                              False                               False   \n",
       "3                              False                               False   \n",
       "4                              False                               False   \n",
       "\n",
       "   Job_Title_Software Developer  Job_Title_Software Engineer  \\\n",
       "0                         False                         True   \n",
       "1                         False                        False   \n",
       "2                         False                        False   \n",
       "3                         False                        False   \n",
       "4                         False                        False   \n",
       "\n",
       "   Job_Title_Software Engineer Manager  Job_Title_Web Developer    Salary  \n",
       "0                                False                    False   90000.0  \n",
       "1                                False                    False   65000.0  \n",
       "2                                False                    False  150000.0  \n",
       "3                                False                    False   60000.0  \n",
       "4                                False                    False  200000.0  \n",
       "\n",
       "[5 rows x 45 columns]"
      ]
     },
     "execution_count": 20,
     "metadata": {},
     "output_type": "execute_result"
    }
   ],
   "source": [
    "# Apply One-Hot Encoding on 'Job Title' column\n",
    "one_hot_encoded = pd.get_dummies(dataset['Job Title'], prefix='Job_Title')\n",
    "# Drop the original 'Job Title' column from the dataset\n",
    "dataset = dataset.drop(columns=['Job Title'])\n",
    "# Merge the original dataset (without 'Job Title') with the one-hot encoded columns\n",
    "dataset_encoded = pd.concat([dataset, one_hot_encoded], axis=1)\n",
    "# Apply Label Encoding to 'Education Level' and 'Gender' columns\n",
    "dataset_encoded['Education Level'] = LabelEncoder().fit_transform(dataset_encoded['Education Level'])\n",
    "dataset_encoded['Gender'] = LabelEncoder().fit_transform(dataset_encoded['Gender'])\n",
    "# Ensure that 'Salary' column is the last column in the dataset\n",
    "# Get all columns except 'Salary'\n",
    "cols = [col for col in dataset_encoded.columns if col != 'Salary']\n",
    "# Reorder the columns with 'Salary' at the end\n",
    "dataset_encoded = dataset_encoded[cols + ['Salary']]\n",
    "dataset_encoded.head()"
   ]
  },
  {
   "cell_type": "markdown",
   "metadata": {
    "id": "EleXoSiRp97_"
   },
   "source": [
    "# **Data Split and Scaling**"
   ]
  },
  {
   "cell_type": "code",
   "execution_count": 28,
   "metadata": {
    "colab": {
     "base_uri": "https://localhost:8080/"
    },
    "id": "RIkUNxmWqSGi",
    "outputId": "35d3294a-da11-4542-a0c1-08077d12caf5"
   },
   "outputs": [
    {
     "name": "stdout",
     "output_type": "stream",
     "text": [
      "X_train : (1432, 44)\n",
      "Y_train : (1432,)\n",
      "X_test : (359, 44)\n",
      "Y_test : (359,)\n"
     ]
    }
   ],
   "source": [
    "from sklearn.model_selection import train_test_split\n",
    "X = dataset_encoded.iloc[:, :-1].values\n",
    "Y = dataset_encoded.iloc[:,-1].values\n",
    "X = X.astype(np.float64)\n",
    "Y = Y.astype(np.float64)\n",
    "X_train, X_test, Y_train, Y_test = train_test_split(X, Y, test_size=0.2, random_state=1)\n",
    "\n",
    "print(f\"X_train : {X_train.shape}\")\n",
    "print(f\"Y_train : {Y_train.shape}\")\n",
    "print(f\"X_test : {X_test.shape}\")\n",
    "print(f\"Y_test : {Y_test.shape}\")\n",
    "\n",
    "  # Scaling [standing scaling]\n",
    "from sklearn.preprocessing import StandardScaler\n",
    "scaler=StandardScaler().fit(X_train)\n",
    "Standared_X_train=scaler.transform(X_train)\n",
    "Standared_X_test=scaler.transform(X_test)"
   ]
  },
  {
   "cell_type": "markdown",
   "metadata": {
    "id": "ETz5wvWKqXpx"
   },
   "source": [
    "# **Linear Regression Model**"
   ]
  },
  {
   "cell_type": "code",
   "execution_count": 49,
   "metadata": {
    "colab": {
     "base_uri": "https://localhost:8080/",
     "height": 792
    },
    "id": "kdxU7njlqc_q",
    "outputId": "e8419f24-2ac0-4a7b-97a2-65d86e3755c7"
   },
   "outputs": [
    {
     "name": "stdout",
     "output_type": "stream",
     "text": [
      "Linear Regression : RMSE: 21639.32047329214\n",
      "Linear Regression : MSE: 468260190.54584044\n",
      "Linear Regression : MAE: 16011.088451086916\n",
      "Linear Regression : R²: 0.8292672887259455\n",
      "--------------------------------------------------------------------------\n"
     ]
    },
    {
     "data": {
      "image/png": "[encoded data removed]",
      "text/plain": [
       "<Figure size 640x480 with 1 Axes>"
      ]
     },
     "metadata": {},
     "output_type": "display_data"
    },
    {
     "name": "stdout",
     "output_type": "stream",
     "text": [
      "--------------------------------------------------------------------------\n"
     ]
    },
    {
     "data": {
      "text/html": [
       "<style type=\"text/css\">\n",
       "#T_c7982 thead th {\n",
       "  background-color: #66C2A5;\n",
       "  color: white;\n",
       "  text-align: center;\n",
       "}\n",
       "#T_c7982 tbody td {\n",
       "  text-align: center;\n",
       "}\n",
       "#T_c7982 caption {\n",
       "  caption-side: top;\n",
       "  text-align: center;\n",
       "  font-size: 18px;\n",
       "  font-weight: bold;\n",
       "}\n",
       "</style>\n",
       "<table id=\"T_c7982\" class=\"dataframe\">\n",
       "  <caption>Comparison of Actual and Predicted Values</caption>\n",
       "  <thead>\n",
       "    <tr>\n",
       "      <th id=\"T_c7982_level0_col0\" class=\"col_heading level0 col0\" >Actual Value</th>\n",
       "      <th id=\"T_c7982_level0_col1\" class=\"col_heading level0 col1\" >Predicted Value</th>\n",
       "      <th id=\"T_c7982_level0_col2\" class=\"col_heading level0 col2\" >Absolute Error</th>\n",
       "    </tr>\n",
       "  </thead>\n",
       "  <tbody>\n",
       "    <tr>\n",
       "      <td id=\"T_c7982_row0_col0\" class=\"data row0 col0\" >80000.000000</td>\n",
       "      <td id=\"T_c7982_row0_col1\" class=\"data row0 col1\" >72890.250760</td>\n",
       "      <td id=\"T_c7982_row0_col2\" class=\"data row0 col2\" >7109.749240</td>\n",
       "    </tr>\n",
       "    <tr>\n",
       "      <td id=\"T_c7982_row1_col0\" class=\"data row1 col0\" >190000.000000</td>\n",
       "      <td id=\"T_c7982_row1_col1\" class=\"data row1 col1\" >162077.297582</td>\n",
       "      <td id=\"T_c7982_row1_col2\" class=\"data row1 col2\" >27922.702418</td>\n",
       "    </tr>\n",
       "    <tr>\n",
       "      <td id=\"T_c7982_row2_col0\" class=\"data row2 col0\" >90452.000000</td>\n",
       "      <td id=\"T_c7982_row2_col1\" class=\"data row2 col1\" >104073.278630</td>\n",
       "      <td id=\"T_c7982_row2_col2\" class=\"data row2 col2\" >13621.278630</td>\n",
       "    </tr>\n",
       "    <tr>\n",
       "      <td id=\"T_c7982_row3_col0\" class=\"data row3 col0\" >193964.000000</td>\n",
       "      <td id=\"T_c7982_row3_col1\" class=\"data row3 col1\" >212977.467809</td>\n",
       "      <td id=\"T_c7982_row3_col2\" class=\"data row3 col2\" >19013.467809</td>\n",
       "    </tr>\n",
       "    <tr>\n",
       "      <td id=\"T_c7982_row4_col0\" class=\"data row4 col0\" >65000.000000</td>\n",
       "      <td id=\"T_c7982_row4_col1\" class=\"data row4 col1\" >63824.000899</td>\n",
       "      <td id=\"T_c7982_row4_col2\" class=\"data row4 col2\" >1175.999101</td>\n",
       "    </tr>\n",
       "  </tbody>\n",
       "</table>\n"
      ],
      "text/plain": [
       "<pandas.io.formats.style.Styler at 0x7fd1a756f7c0>"
      ]
     },
     "execution_count": 49,
     "metadata": {},
     "output_type": "execute_result"
    }
   ],
   "source": [
    "# linear regression model\n",
    "mymodel=LinearRegression()\n",
    "mymodel.fit(Standared_X_train,Y_train)\n",
    "Y_predict_Linear_regression=mymodel.predict(Standared_X_test)\n",
    "\n",
    "from sklearn.metrics import mean_squared_error , mean_absolute_error , r2_score,accuracy_score\n",
    "mean_absolute_error(Y_test,Y_predict_Linear_regression)\n",
    "mean_squared_error(Y_test,Y_predict_Linear_regression)\n",
    "r2_score(Y_test,Y_predict_Linear_regression)\n",
    "np.sqrt(mean_squared_error(Y_test, Y_predict_Linear_regression))\n",
    "\n",
    "print(f\"Linear Regression : RMSE: {np.sqrt(mean_squared_error(Y_test, Y_predict_Linear_regression))}\")\n",
    "print(f\"Linear Regression : MSE: {mean_squared_error(Y_test,Y_predict_Linear_regression)}\")\n",
    "print(f\"Linear Regression : MAE: {mean_absolute_error(Y_test,Y_predict_Linear_regression)}\")\n",
    "print(f\"Linear Regression : R²: {r2_score(Y_test,Y_predict_Linear_regression)}\")\n",
    "print(\"--------------------------------------------------------------------------\")\n",
    "plt.scatter(Y_test, Y_predict_Linear_regression, color='#66C2A5', label='Predicted', alpha=0.6)\n",
    "plt.plot([Y_test.min(), Y_test.max()], [Y_test.min(), Y_test.max()], color='black', lw=4, label='Ideal')\n",
    "plt.xlabel('Actual', fontsize=12)\n",
    "plt.ylabel('Predicted', fontsize=12)\n",
    "plt.title('Actual vs Predicted (Linear Regression model)', fontsize=14)\n",
    "plt.legend()\n",
    "plt.show()\n",
    "print(\"--------------------------------------------------------------------------\")\n",
    "#Linear Regression\n",
    "comparison_table = pd.DataFrame({\n",
    "    'Actual Value': Y_test,\n",
    "    'Predicted Value': Y_predict_Linear_regression,\n",
    "    'Absolute Error': np.abs(np.array(Y_test) - np.array( Y_predict_Linear_regression))\n",
    "})\n",
    "\n",
    "styled_table = (\n",
    "    comparison_table.head(5).style\n",
    "    .set_table_attributes('class=\"table table-bordered\"')\n",
    "    .set_caption(\"Comparison of Actual and Predicted Values\")\n",
    "    .set_table_styles(\n",
    "        [\n",
    "            {'selector': 'thead th', 'props': [('background-color', '#66C2A5'), ('color', 'white'), ('text-align', 'center')]},\n",
    "            {'selector': 'tbody td', 'props': [('text-align', 'center')]},\n",
    "            {'selector': 'caption', 'props': [('caption-side', 'top'), ('text-align', 'center'), ('font-size', '18px'), ('font-weight', 'bold')]}\n",
    "        ]\n",
    "    )\n",
    "    .hide(axis=\"index\")\n",
    ")\n",
    "\n",
    "styled_table\n",
    "\n"
   ]
  },
  {
   "cell_type": "markdown",
   "metadata": {
    "id": "v6ZQcJIFrI1W"
   },
   "source": [
    "# **decision Tree Model**"
   ]
  },
  {
   "cell_type": "code",
   "execution_count": 50,
   "metadata": {
    "colab": {
     "base_uri": "https://localhost:8080/",
     "height": 792
    },
    "id": "4VkwTZdXrRWF",
    "outputId": "341e7ea5-44a0-45ce-abba-3eaeec41c2ec"
   },
   "outputs": [
    {
     "name": "stdout",
     "output_type": "stream",
     "text": [
      "Decision Tree: RMSE: 19887.12015419505\n",
      "Decision Tree: MSE: 395497548.02739096\n",
      "Decision Tree: MAE: 12964.09330612984\n",
      "Decision Tree: R²: 0.8557973322518717\n",
      "---------------------------------------------------------------\n"
     ]
    },
    {
     "data": {
      "image/png": "[encoded data removed]",
      "text/plain": [
       "<Figure size 640x480 with 1 Axes>"
      ]
     },
     "metadata": {},
     "output_type": "display_data"
    },
    {
     "name": "stdout",
     "output_type": "stream",
     "text": [
      "---------------------------------------------------------------\n"
     ]
    },
    {
     "data": {
      "text/html": [
       "<style type=\"text/css\">\n",
       "#T_a05d0 thead th {\n",
       "  background-color: #66C2A5;\n",
       "  color: white;\n",
       "  text-align: center;\n",
       "}\n",
       "#T_a05d0 tbody td {\n",
       "  text-align: center;\n",
       "}\n",
       "#T_a05d0 caption {\n",
       "  caption-side: top;\n",
       "  text-align: center;\n",
       "  font-size: 18px;\n",
       "  font-weight: bold;\n",
       "}\n",
       "</style>\n",
       "<table id=\"T_a05d0\" class=\"dataframe\">\n",
       "  <caption>Comparison of Actual and Predicted Values</caption>\n",
       "  <thead>\n",
       "    <tr>\n",
       "      <th id=\"T_a05d0_level0_col0\" class=\"col_heading level0 col0\" >Actual Value</th>\n",
       "      <th id=\"T_a05d0_level0_col1\" class=\"col_heading level0 col1\" >Predicted Value</th>\n",
       "      <th id=\"T_a05d0_level0_col2\" class=\"col_heading level0 col2\" >Absolute Error</th>\n",
       "    </tr>\n",
       "  </thead>\n",
       "  <tbody>\n",
       "    <tr>\n",
       "      <td id=\"T_a05d0_row0_col0\" class=\"data row0 col0\" >80000.000000</td>\n",
       "      <td id=\"T_a05d0_row0_col1\" class=\"data row0 col1\" >78555.969697</td>\n",
       "      <td id=\"T_a05d0_row0_col2\" class=\"data row0 col2\" >1444.030303</td>\n",
       "    </tr>\n",
       "    <tr>\n",
       "      <td id=\"T_a05d0_row1_col0\" class=\"data row1 col0\" >190000.000000</td>\n",
       "      <td id=\"T_a05d0_row1_col1\" class=\"data row1 col1\" >164181.944444</td>\n",
       "      <td id=\"T_a05d0_row1_col2\" class=\"data row1 col2\" >25818.055556</td>\n",
       "    </tr>\n",
       "    <tr>\n",
       "      <td id=\"T_a05d0_row2_col0\" class=\"data row2 col0\" >90452.000000</td>\n",
       "      <td id=\"T_a05d0_row2_col1\" class=\"data row2 col1\" >95996.000000</td>\n",
       "      <td id=\"T_a05d0_row2_col2\" class=\"data row2 col2\" >5544.000000</td>\n",
       "    </tr>\n",
       "    <tr>\n",
       "      <td id=\"T_a05d0_row3_col0\" class=\"data row3 col0\" >193964.000000</td>\n",
       "      <td id=\"T_a05d0_row3_col1\" class=\"data row3 col1\" >192292.000000</td>\n",
       "      <td id=\"T_a05d0_row3_col2\" class=\"data row3 col2\" >1672.000000</td>\n",
       "    </tr>\n",
       "    <tr>\n",
       "      <td id=\"T_a05d0_row4_col0\" class=\"data row4 col0\" >65000.000000</td>\n",
       "      <td id=\"T_a05d0_row4_col1\" class=\"data row4 col1\" >57228.685484</td>\n",
       "      <td id=\"T_a05d0_row4_col2\" class=\"data row4 col2\" >7771.314516</td>\n",
       "    </tr>\n",
       "  </tbody>\n",
       "</table>\n"
      ],
      "text/plain": [
       "<pandas.io.formats.style.Styler at 0x7fd1a9972590>"
      ]
     },
     "execution_count": 50,
     "metadata": {},
     "output_type": "execute_result"
    }
   ],
   "source": [
    "# Decision Tree model\n",
    "\n",
    "dt_model = DecisionTreeRegressor(max_depth=10,min_samples_split=2,random_state=0)\n",
    "dt_model.fit(Standared_X_train,Y_train)\n",
    "Y_predict_Decision_Tree= dt_model.predict(Standared_X_test)\n",
    "\n",
    "mean_squared_error(Y_test,Y_predict_Decision_Tree)\n",
    "mean_absolute_error(Y_test,Y_predict_Decision_Tree)\n",
    "np.sqrt(mean_squared_error(Y_test,Y_predict_Decision_Tree ))\n",
    "dt_model.score(Standared_X_test,Y_test)\n",
    "print(f\"Decision Tree: RMSE: {np.sqrt(mean_squared_error(Y_test,Y_predict_Decision_Tree ))}\")\n",
    "print(f\"Decision Tree: MSE: {mean_squared_error(Y_test,Y_predict_Decision_Tree)}\")\n",
    "print(f\"Decision Tree: MAE: {mean_absolute_error(Y_test,Y_predict_Decision_Tree)}\")\n",
    "print(f\"Decision Tree: R²: {dt_model.score(Standared_X_test,Y_test)}\")\n",
    "print(\"---------------------------------------------------------------\")\n",
    "\n",
    "\n",
    "plt.scatter(Y_test,Y_predict_Decision_Tree , color='#66C2A5', label='Predicted', alpha=0.6)\n",
    "plt.plot([Y_test.min(), Y_test.max()], [Y_test.min(), Y_test.max()], color='black', lw=4, label='Ideal')\n",
    "plt.xlabel('Actual', fontsize=12)\n",
    "plt.ylabel('Predicted', fontsize=12)\n",
    "plt.title('Actual vs Predicted (Decision Tree model)', fontsize=14)\n",
    "plt.legend()\n",
    "plt.show()\n",
    "print(\"---------------------------------------------------------------\")\n",
    "\n",
    "#Decision tree\n",
    "comparison_table = pd.DataFrame({\n",
    "    'Actual Value': Y_test,\n",
    "    'Predicted Value': Y_predict_Decision_Tree,\n",
    "    'Absolute Error': np.abs(np.array(Y_test) - np.array( Y_predict_Decision_Tree))\n",
    "})\n",
    "\n",
    "styled_table = (\n",
    "    comparison_table.head(5).style\n",
    "    .set_table_attributes('class=\"table table-bordered\"')\n",
    "    .set_caption(\"Comparison of Actual and Predicted Values\")\n",
    "    .set_table_styles(\n",
    "        [\n",
    "            {'selector': 'thead th', 'props': [('background-color', '#66C2A5'), ('color', 'white'), ('text-align', 'center')]},\n",
    "            {'selector': 'tbody td', 'props': [('text-align', 'center')]},\n",
    "            {'selector': 'caption', 'props': [('caption-side', 'top'), ('text-align', 'center'), ('font-size', '18px'), ('font-weight', 'bold')]}\n",
    "        ]\n",
    "    )\n",
    "    .hide(axis=\"index\")\n",
    ")\n",
    "\n",
    "styled_table\n",
    "\n",
    "\n"
   ]
  },
  {
   "cell_type": "markdown",
   "metadata": {
    "id": "JB59UaKpykpq"
   },
   "source": [
    "# **Random Forest Model**"
   ]
  },
  {
   "cell_type": "code",
   "execution_count": 51,
   "metadata": {
    "colab": {
     "base_uri": "https://localhost:8080/",
     "height": 792
    },
    "id": "dz_UnBoIyuuQ",
    "outputId": "1ba6f377-80a1-45f1-8660-a016d752c0bb"
   },
   "outputs": [
    {
     "name": "stdout",
     "output_type": "stream",
     "text": [
      "Random Forest: RMSE: 16996.456622250073\n",
      "Random Forest: MSE: 288879537.7120284\n",
      "Random Forest: MAE: 10834.394895332152\n",
      "Random Forest: R²: 0.894671407689649\n",
      "----------------------------------------------------------------------------\n"
     ]
    },
    {
     "data": {
      "image/png": "[encoded data removed]",
      "text/plain": [
       "<Figure size 640x480 with 1 Axes>"
      ]
     },
     "metadata": {},
     "output_type": "display_data"
    },
    {
     "name": "stdout",
     "output_type": "stream",
     "text": [
      "----------------------------------------------------------------------------\n"
     ]
    },
    {
     "data": {
      "text/html": [
       "<style type=\"text/css\">\n",
       "#T_6886b thead th {\n",
       "  background-color: #66C2A5;\n",
       "  color: white;\n",
       "  text-align: center;\n",
       "}\n",
       "#T_6886b tbody td {\n",
       "  text-align: center;\n",
       "}\n",
       "#T_6886b caption {\n",
       "  caption-side: top;\n",
       "  text-align: center;\n",
       "  font-size: 18px;\n",
       "  font-weight: bold;\n",
       "}\n",
       "</style>\n",
       "<table id=\"T_6886b\" class=\"dataframe\">\n",
       "  <caption>Comparison of Actual and Predicted Values</caption>\n",
       "  <thead>\n",
       "    <tr>\n",
       "      <th id=\"T_6886b_level0_col0\" class=\"col_heading level0 col0\" >Actual Value</th>\n",
       "      <th id=\"T_6886b_level0_col1\" class=\"col_heading level0 col1\" >Predicted Value</th>\n",
       "      <th id=\"T_6886b_level0_col2\" class=\"col_heading level0 col2\" >Absolute Error</th>\n",
       "    </tr>\n",
       "  </thead>\n",
       "  <tbody>\n",
       "    <tr>\n",
       "      <td id=\"T_6886b_row0_col0\" class=\"data row0 col0\" >80000.000000</td>\n",
       "      <td id=\"T_6886b_row0_col1\" class=\"data row0 col1\" >78000.000000</td>\n",
       "      <td id=\"T_6886b_row0_col2\" class=\"data row0 col2\" >2000.000000</td>\n",
       "    </tr>\n",
       "    <tr>\n",
       "      <td id=\"T_6886b_row1_col0\" class=\"data row1 col0\" >190000.000000</td>\n",
       "      <td id=\"T_6886b_row1_col1\" class=\"data row1 col1\" >183500.000000</td>\n",
       "      <td id=\"T_6886b_row1_col2\" class=\"data row1 col2\" >6500.000000</td>\n",
       "    </tr>\n",
       "    <tr>\n",
       "      <td id=\"T_6886b_row2_col0\" class=\"data row2 col0\" >90452.000000</td>\n",
       "      <td id=\"T_6886b_row2_col1\" class=\"data row2 col1\" >88742.270833</td>\n",
       "      <td id=\"T_6886b_row2_col2\" class=\"data row2 col2\" >1709.729167</td>\n",
       "    </tr>\n",
       "    <tr>\n",
       "      <td id=\"T_6886b_row3_col0\" class=\"data row3 col0\" >193964.000000</td>\n",
       "      <td id=\"T_6886b_row3_col1\" class=\"data row3 col1\" >190179.350000</td>\n",
       "      <td id=\"T_6886b_row3_col2\" class=\"data row3 col2\" >3784.650000</td>\n",
       "    </tr>\n",
       "    <tr>\n",
       "      <td id=\"T_6886b_row4_col0\" class=\"data row4 col0\" >65000.000000</td>\n",
       "      <td id=\"T_6886b_row4_col1\" class=\"data row4 col1\" >59354.166667</td>\n",
       "      <td id=\"T_6886b_row4_col2\" class=\"data row4 col2\" >5645.833333</td>\n",
       "    </tr>\n",
       "  </tbody>\n",
       "</table>\n"
      ],
      "text/plain": [
       "<pandas.io.formats.style.Styler at 0x7fd1a778e7a0>"
      ]
     },
     "execution_count": 51,
     "metadata": {},
     "output_type": "execute_result"
    }
   ],
   "source": [
    "# Random Forest model\n",
    "\n",
    "rf_model = RandomForestRegressor(n_estimators=20)\n",
    "rf_model.fit(Standared_X_train,Y_train)\n",
    "rf_model.score(Standared_X_test,Y_test)\n",
    "Y_predict_Random_Forest = rf_model.predict(Standared_X_test)\n",
    "\n",
    "\n",
    "mean_squared_error(Y_test,Y_predict_Random_Forest)\n",
    "mean_absolute_error(Y_test,Y_predict_Random_Forest)\n",
    "np.sqrt(mean_squared_error(Y_test,Y_predict_Random_Forest ))\n",
    "rf_model.score(Standared_X_test,Y_test)\n",
    "\n",
    "print(f\"Random Forest: RMSE: {np.sqrt(mean_squared_error(Y_test, Y_predict_Random_Forest))}\")\n",
    "print(f\"Random Forest: MSE: {mean_squared_error(Y_test,Y_predict_Random_Forest)}\")\n",
    "print(f\"Random Forest: MAE: {mean_absolute_error(Y_test,Y_predict_Random_Forest)}\")\n",
    "print(f\"Random Forest: R²: {rf_model.score(Standared_X_test,Y_test)}\")\n",
    "print(\"----------------------------------------------------------------------------\")\n",
    "\n",
    "plt.scatter(Y_test, Y_predict_Random_Forest, color='#66C2A5', label='Predicted', alpha=0.6)\n",
    "plt.plot([Y_test.min(), Y_test.max()], [Y_test.min(), Y_test.max()], color='black', lw=4, label='Ideal')\n",
    "plt.xlabel('Actual', fontsize=12)\n",
    "plt.ylabel('Predicted', fontsize=12)\n",
    "plt.title('Actual vs Predicted (Random Forest model)', fontsize=14)\n",
    "plt.legend()\n",
    "plt.show()\n",
    "print(\"----------------------------------------------------------------------------\")\n",
    "\n",
    "# random forest\n",
    "comparison_table = pd.DataFrame({\n",
    "    'Actual Value': Y_test,\n",
    "    'Predicted Value': Y_predict_Random_Forest,\n",
    "    'Absolute Error': np.abs(np.array(Y_test) - np.array(Y_predict_Random_Forest))\n",
    "})\n",
    "\n",
    "styled_table = (\n",
    "    comparison_table.head(5).style\n",
    "    .set_table_attributes('class=\"table table-bordered\"')\n",
    "    .set_caption(\"Comparison of Actual and Predicted Values\")\n",
    "    .set_table_styles(\n",
    "        [\n",
    "            {'selector': 'thead th', 'props': [('background-color', '#66C2A5'), ('color', 'white'), ('text-align', 'center')]},\n",
    "            {'selector': 'tbody td', 'props': [('text-align', 'center')]},\n",
    "            {'selector': 'caption', 'props': [('caption-side', 'top'), ('text-align', 'center'), ('font-size', '18px'), ('font-weight', 'bold')]}\n",
    "        ]\n",
    "    )\n",
    "    .hide(axis=\"index\")\n",
    ")\n",
    "\n",
    "styled_table\n"
   ]
  },
  {
   "cell_type": "markdown",
   "metadata": {
    "id": "gu10BV9xzC_t"
   },
   "source": [
    "# **Comparison between Regression, Decision Tree, and Random Forest**"
   ]
  },
  {
   "cell_type": "code",
   "execution_count": 35,
   "metadata": {
    "colab": {
     "base_uri": "https://localhost:8080/",
     "height": 160
    },
    "id": "XEkaFtRCzRtm",
    "outputId": "9050e72f-4a2f-49d9-b80b-db010cf4fcab"
   },
   "outputs": [
    {
     "data": {
      "text/html": [
       "<style type=\"text/css\">\n",
       "#T_62ca7 thead th {\n",
       "  background-color: #66C2A5;\n",
       "  color: white;\n",
       "  text-align: center;\n",
       "}\n",
       "#T_62ca7 tbody td {\n",
       "  text-align: center;\n",
       "}\n",
       "#T_62ca7 table {\n",
       "  width: 100%;\n",
       "  border-collapse: collapse;\n",
       "}\n",
       "</style>\n",
       "<table id=\"T_62ca7\" class=\"dataframe\">\n",
       "  <caption>Model Performance Metrics</caption>\n",
       "  <thead>\n",
       "    <tr>\n",
       "      <th id=\"T_62ca7_level0_col0\" class=\"col_heading level0 col0\" >Model</th>\n",
       "      <th id=\"T_62ca7_level0_col1\" class=\"col_heading level0 col1\" >R²</th>\n",
       "      <th id=\"T_62ca7_level0_col2\" class=\"col_heading level0 col2\" >MAE</th>\n",
       "      <th id=\"T_62ca7_level0_col3\" class=\"col_heading level0 col3\" >MSE</th>\n",
       "      <th id=\"T_62ca7_level0_col4\" class=\"col_heading level0 col4\" >RMSE</th>\n",
       "    </tr>\n",
       "  </thead>\n",
       "  <tbody>\n",
       "    <tr>\n",
       "      <td id=\"T_62ca7_row0_col0\" class=\"data row0 col0\" >Random Forest</td>\n",
       "      <td id=\"T_62ca7_row0_col1\" class=\"data row0 col1\" >0.892653</td>\n",
       "      <td id=\"T_62ca7_row0_col2\" class=\"data row0 col2\" >10801.950462</td>\n",
       "      <td id=\"T_62ca7_row0_col3\" class=\"data row0 col3\" >294414796.290136</td>\n",
       "      <td id=\"T_62ca7_row0_col4\" class=\"data row0 col4\" >17158.519642</td>\n",
       "    </tr>\n",
       "    <tr>\n",
       "      <td id=\"T_62ca7_row1_col0\" class=\"data row1 col0\" >Decision Tree</td>\n",
       "      <td id=\"T_62ca7_row1_col1\" class=\"data row1 col1\" >0.855797</td>\n",
       "      <td id=\"T_62ca7_row1_col2\" class=\"data row1 col2\" >12964.093306</td>\n",
       "      <td id=\"T_62ca7_row1_col3\" class=\"data row1 col3\" >395497548.027391</td>\n",
       "      <td id=\"T_62ca7_row1_col4\" class=\"data row1 col4\" >19887.120154</td>\n",
       "    </tr>\n",
       "    <tr>\n",
       "      <td id=\"T_62ca7_row2_col0\" class=\"data row2 col0\" >Linear Regression</td>\n",
       "      <td id=\"T_62ca7_row2_col1\" class=\"data row2 col1\" >0.829267</td>\n",
       "      <td id=\"T_62ca7_row2_col2\" class=\"data row2 col2\" >16011.088451</td>\n",
       "      <td id=\"T_62ca7_row2_col3\" class=\"data row2 col3\" >468260190.545840</td>\n",
       "      <td id=\"T_62ca7_row2_col4\" class=\"data row2 col4\" >21639.320473</td>\n",
       "    </tr>\n",
       "  </tbody>\n",
       "</table>\n"
      ],
      "text/plain": [
       "<pandas.io.formats.style.Styler at 0x7fd1a75878b0>"
      ]
     },
     "execution_count": 35,
     "metadata": {},
     "output_type": "execute_result"
    }
   ],
   "source": [
    "from sklearn.metrics import r2_score, mean_absolute_error, mean_squared_error\n",
    "import numpy as np\n",
    "import pandas as pd\n",
    "\n",
    "# Assuming `Y_test` and the predicted results are defined\n",
    "models = {\n",
    "    \"Random Forest\": Y_predict_Random_Forest,\n",
    "    \"Decision Tree\": Y_predict_Decision_Tree,\n",
    "    \"Linear Regression\": Y_predict_Linear_regression,\n",
    "}\n",
    "\n",
    "# Initialize the metrics dictionary\n",
    "metrics = {\"Model\": [], \"R²\": [], \"MAE\": [], \"MSE\": [], \"RMSE\": []}\n",
    "\n",
    "# Calculate metrics for each model\n",
    "for model_name, y_pred in models.items():\n",
    "    metrics[\"Model\"].append(model_name)\n",
    "    metrics[\"R²\"].append(r2_score(Y_test, y_pred))\n",
    "    metrics[\"MAE\"].append(mean_absolute_error(Y_test, y_pred))\n",
    "    metrics[\"MSE\"].append(mean_squared_error(Y_test, y_pred))\n",
    "    metrics[\"RMSE\"].append(np.sqrt(mean_squared_error(Y_test, y_pred)))\n",
    "\n",
    "# Create a DataFrame to display the metrics\n",
    "df = pd.DataFrame(metrics)\n",
    "\n",
    "# Style the DataFrame for better presentation\n",
    "styled_df = (\n",
    "    df.style\n",
    "    .set_table_attributes('class=\"table table-bordered\"')\n",
    "    .set_caption(\"Model Performance Metrics\")\n",
    "    .set_table_styles(\n",
    "        [\n",
    "            {'selector': 'thead th', 'props': [('background-color', '#66C2A5'), ('color', 'white'), ('text-align', 'center')]},\n",
    "            {'selector': 'tbody td', 'props': [('text-align', 'center')]},\n",
    "            {'selector': 'table', 'props': [('width', '100%'), ('border-collapse', 'collapse')]}\n",
    "        ]\n",
    "    )\n",
    "    .hide(axis=\"index\")  # Hide the index for a cleaner look\n",
    ")\n",
    "\n",
    "styled_df\n"
   ]
  },
  {
   "cell_type": "markdown",
   "metadata": {
    "id": "B6wrOEGozoHJ"
   },
   "source": [
    "# **Predicting Salary Based on User Input with Preprocessing and Model Prediction**"
   ]
  },
  {
   "cell_type": "code",
   "execution_count": 38,
   "metadata": {
    "colab": {
     "base_uri": "https://localhost:8080/"
    },
    "id": "hsVtkxdwzsQ1",
    "outputId": "fc85075e-8677-4857-85a0-7e66e455a969"
   },
   "outputs": [
    {
     "name": "stdout",
     "output_type": "stream",
     "text": [
      "Please enter the following details to predict your salary:\n",
      "Age between (21-80): 50\n",
      "Years of Experience between (0-50): 20\n",
      "Gender (Male/Female): Male\n",
      "Education Level (Bachelor's Degree/Master's Degree/PhD): PhD\n",
      "Job Title: Software Engineer\n",
      "The predicted salary is: $140179.57\n"
     ]
    }
   ],
   "source": [
    "import numpy as np\n",
    "import warnings\n",
    "\n",
    "def get_user_input_and_predict(one_hot_encoded, scaler, model):\n",
    "    # Ignore warnings\n",
    "    warnings.filterwarnings(\"ignore\")\n",
    "\n",
    "    print(\"Please enter the following details to predict your salary:\")\n",
    "\n",
    "    # User input for features with validation\n",
    "    while True:\n",
    "        try:\n",
    "            age = float(input(\"Age between (21-80): \"))\n",
    "            if age < 21 or age > 80:\n",
    "                raise ValueError(\"Age must be between 21 and 80.\")\n",
    "            break\n",
    "        except ValueError as e:\n",
    "            print(e)\n",
    "\n",
    "    while True:\n",
    "        try:\n",
    "            years_of_experience = float(input(\"Years of Experience between (0-50): \"))\n",
    "            if years_of_experience < 0 or years_of_experience > 50:\n",
    "                raise ValueError(\"Years of Experience must be between 0 and 50.\")\n",
    "            break\n",
    "        except ValueError as e:\n",
    "            print(e)\n",
    "\n",
    "    while True:\n",
    "        gender = input(\"Gender (Male/Female): \").strip().lower()\n",
    "        if gender not in ['male', 'female']:\n",
    "            print(\"Please enter 'Male' or 'Female'.\")\n",
    "        else:\n",
    "            gender_encoded = 1 if gender == 'male' else 0\n",
    "            break\n",
    "\n",
    "    while True:\n",
    "        education_level = input(\"Education Level (Bachelor's Degree/Master's Degree/PhD): \").strip()\n",
    "        if education_level not in [\"Bachelor's Degree\", \"Master's Degree\", \"PhD\"]:\n",
    "            print(\"Please enter a valid education level.\")\n",
    "        else:\n",
    "            education_levels = {\n",
    "                \"Bachelor's Degree\": 0,\n",
    "                \"Master's Degree\": 1,\n",
    "                \"PhD\": 2\n",
    "            }\n",
    "            education_encoded = education_levels[education_level]\n",
    "            break\n",
    "\n",
    "    job_title = input(\"Job Title: \").strip()\n",
    "    job_title_encoded = np.zeros(len(one_hot_encoded.columns))\n",
    "    if job_title in one_hot_encoded.columns:\n",
    "        job_title_encoded[one_hot_encoded.columns.get_loc(job_title)] = 1\n",
    "    else:\n",
    "        if 'Job_Title_Other' in one_hot_encoded.columns:\n",
    "            job_title_encoded[one_hot_encoded.columns.get_loc('Job_Title_Other')] = 1  # For unknown job titles\n",
    "        else:\n",
    "            raise ValueError(\"The job title is not recognized and 'Job_Title_Other' column is missing.\")\n",
    "\n",
    "    input_data = np.array([[age, years_of_experience, gender_encoded, education_encoded] + list(job_title_encoded)])\n",
    "\n",
    "    input_data = scaler.transform(input_data)\n",
    "\n",
    "    predicted_salary = model.predict(input_data)\n",
    "\n",
    "    print(f'The predicted salary is: ${predicted_salary[0]:.2f}')\n",
    "\n",
    "get_user_input_and_predict(one_hot_encoded, scaler, mymodel)\n"
   ]
  }
 ],
 "metadata": {
  "colab": {
   "collapsed_sections": [
    "AowyuXGxBQhJ",
    "BUfURxAoCE46",
    "s4XcF2520jTq",
    "S-kQFVCVGZmT",
    "Cv_67biEHTmY",
    "NeVY2xRPIh3J",
    "P0rWM3aXK_bd",
    "jd_vxaqtMkow",
    "qLsag4ngNhu9",
    "a9jg7yNOOtR0",
    "w2bCeWy8W8BE",
    "EW-z1m6AVGu6",
    "EleXoSiRp97_",
    "ETz5wvWKqXpx",
    "v6ZQcJIFrI1W",
    "JB59UaKpykpq",
    "gu10BV9xzC_t",
    "B6wrOEGozoHJ"
   ],
   "provenance": []
  },
  "kernelspec": {
   "display_name": "Python 3 (ipykernel)",
   "language": "python",
   "name": "python3"
  },
  "language_info": {
   "codemirror_mode": {
    "name": "ipython",
    "version": 3
   },
   "file_extension": ".py",
   "mimetype": "text/x-python",
   "name": "python",
   "nbconvert_exporter": "python",
   "pygments_lexer": "ipython3",
   "version": "3.13.2"
  }
 },
 "nbformat": 4,
 "nbformat_minor": 4
}
